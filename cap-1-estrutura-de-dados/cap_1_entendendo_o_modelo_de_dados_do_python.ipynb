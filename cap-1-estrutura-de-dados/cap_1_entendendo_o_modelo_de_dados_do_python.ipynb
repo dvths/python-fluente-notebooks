{
 "cells": [
  {
   "cell_type": "markdown",
   "id": "648bffaa",
   "metadata": {},
   "source": [
    "# Entendendo o Python Data Model"
   ]
  },
  {
   "cell_type": "markdown",
   "id": "6f766e1d",
   "metadata": {},
   "source": [
    "## Conceito"
   ]
  },
  {
   "cell_type": "markdown",
   "id": "9875e307",
   "metadata": {},
   "source": [
    "Um modelo de dados é uma abstração que formaliza, organiza ou padroniza a forma como elementos de dados se relacionam entre si e com entidades do mundo real. Em outras palavras, é o modelo de dados que determina a estrutura dos dados,  define como um objeto deve ser construído e como este objeto se comportará tanto como representação de algo, quanto em relação a outros objetos externos ou aos objetos que o compõe.  \n",
    "\n",
    "O objetivo de um modelo de dados é dar suporte para o desenvolvimento de um sistema, isto é, um conjunto de elementos, concretos ou abstratos, intelectualmente organizado.  \n",
    "\n",
    "No contexto do modelo de dados do Python, isso significa a existência de uma interface fornecida pela linguagem para lidarmos com os recursos internos da própria linguagem. Ou seja, uma represntação abstrata de si mesma que \"formaliza as interfaces dos elementos constituintes da prória linguagem\" (Ramalho, 2023), especificando a forma como os objetos são construidos, manipulados e destruídos.\n",
    "\n",
    "Na prática, é esse conceito que está por trás da afirmação recorrente em muitos livros sobre Python: \"Tudo em Python é um objeto\". Se tudo em python é um objeto, logo, tudo é a instância de uma classe. Sendo assim, temos uma classe base de onde derivam todo o resto. Essa classe se chama `object`.\n",
    "\n",
    "A classe `object` é a base para criação de todas as outras classes e fornece um conjunto de atributos e métodos disponíveis implicitamente para todas as classes derivadas. São esses métodos que determinam como o que construímos na linguagem se comunica com os recursos fundamentais da própria linguagem. Chamamos isso de _métodos especiais_. \n",
    "Por exemplo:"
   ]
  },
  {
   "cell_type": "code",
   "execution_count": 2,
   "id": "91372854",
   "metadata": {},
   "outputs": [
    {
     "data": {
      "text/plain": [
       "['__class__',\n",
       " '__delattr__',\n",
       " '__dict__',\n",
       " '__dir__',\n",
       " '__doc__',\n",
       " '__eq__',\n",
       " '__format__',\n",
       " '__ge__',\n",
       " '__getattribute__',\n",
       " '__getstate__',\n",
       " '__gt__',\n",
       " '__hash__',\n",
       " '__init__',\n",
       " '__init_subclass__',\n",
       " '__le__',\n",
       " '__lt__',\n",
       " '__module__',\n",
       " '__ne__',\n",
       " '__new__',\n",
       " '__reduce__',\n",
       " '__reduce_ex__',\n",
       " '__repr__',\n",
       " '__setattr__',\n",
       " '__sizeof__',\n",
       " '__str__',\n",
       " '__subclasshook__',\n",
       " '__weakref__']"
      ]
     },
     "execution_count": 2,
     "metadata": {},
     "output_type": "execute_result"
    }
   ],
   "source": [
    "class Exemple:\n",
    "    pass\n",
    "dir(Exemple)"
   ]
  },
  {
   "cell_type": "markdown",
   "id": "3a59d10d",
   "metadata": {},
   "source": [
    "A primeira coisa que precisamos saber sobre esses métodos especiais, segundo Ramalho, é que eles foram feitos para serem chamados pelo interpretador Python e não por nós. O interpretador invonca os métodos especiais, muitas vezes com uma sintaxe expecial do tipo `my_object.__*__()`. É essa invocação que realiza as operações básicas sobre objetos. Isto é, nós não escrevemos, por exemplo, `my_object.__len__()`, mas `len(my_object)`. E se `my_object` for a instância de uma classe definida por você, o interpretador chamará o método `__len__` que você implementou. Veja que se chamarmos `Exemple`, o interpretador retorna `__main__.Exemple`.  `__main__` é um dos métodos especiais, mas sua função, assim como os de outros métodos especias serão estudados posteriormente."
   ]
  },
  {
   "cell_type": "code",
   "execution_count": 5,
   "id": "99aaa87d",
   "metadata": {},
   "outputs": [
    {
     "data": {
      "text/plain": [
       "__main__.Exemple"
      ]
     },
     "execution_count": 5,
     "metadata": {},
     "output_type": "execute_result"
    }
   ],
   "source": [
    "Exemple"
   ]
  },
  {
   "cell_type": "markdown",
   "id": "0a65145c",
   "metadata": {},
   "source": [
    "Essa é a maneira mais simples de observarmos a estrutura do modelo de dados do Python."
   ]
  },
  {
   "cell_type": "markdown",
   "id": "6737af75",
   "metadata": {},
   "source": [
    "## Quando usamos os métodos especiais? "
   ]
  },
  {
   "cell_type": "markdown",
   "id": "da6f5f03",
   "metadata": {},
   "source": [
    "Ramalho indica que a implementação dos métodos especiais é feita quando \"queremos que nossos objetos suportem e interajam com os elementos fundamentais da linguagem\". Esses elementos fundamentais são:\n",
    "\n",
    "- Coleções\n",
    "- Acesso a atributos\n",
    "- Iteração (incluíndo iteração assíncrona com `assync for` \n",
    "- Sobrecarga (overloading) de operadores\n",
    "- Invocação de funções e métodos\n",
    "- Representação e formatação de strings\n",
    "- Programação assíncrona usando `await`\n",
    "- Criação e destruição de objetos\n",
    "- Contextos gerenciados usando instruções `with` ou `async with`\n",
    "\n",
    "No entanto, ele ressalta que, nosso código não deve conter muitas chamadas diretas à métodos especiais. Isso tem uma razão simples: Como vimos, a chamada a um método especial é implicita (ao menos na maioria das vezes) e existem funções -- desenvolvidas no próprio modelo -- relacionadas a eles para realizarem esse trabalho que, segundo o Ramalho, são mais rápidas (como `len()`, `iter()`, `str()`, por exemplo) do que chamadas diretas. Nos referimos a essas funções como [funções embutidas](https://docs.python.org/pt-br/3.7/library/functions.html) ou funções nativas. Isso porque são funções da própria interface da linguagem que lidam com os tipos embutidos (ou tipos nativos) que, por sua vez, são abstrações criadas a partir de `object` e definem a [hierarquia padrão dos tipos da linguagem](https://docs.python.org/pt-br/3/reference/datamodel.html#the-standard-type-hierarchy). Por tanto, sempre será mais comum implementar os métodos especiais do que usá-los durante o desenvolvimento dos programas.   \n",
    "\n",
    "A partir do que vimos até aqui, iremos estudar os exemplos expostos por Ramalho ao longo do capítulo em que ele demonstra a implementação e o uso correto dos métodos especiais."
   ]
  },
  {
   "cell_type": "markdown",
   "id": "1f966fa2",
   "metadata": {},
   "source": [
    "## A ideia por trás do baralho pythônico"
   ]
  },
  {
   "cell_type": "markdown",
   "id": "031185a8",
   "metadata": {},
   "source": [
    "O Exemplo 1 do capítulo 1.2 inicia a demonstração do Modelo de Dados do Python através da implementação de dois métodos especiais: `__getitem__` e `__len__`. Para ilustrar, Ramalho, desenvolve um código que representa um baralho como uma sequência de cartas. \n",
    "\n",
    "Eu não sou um grande conhecedor de baralhos. Então, não achei trivial dar uma pesquisada rápida sobre o assunto para entender totalmente o código. \n",
    "\n",
    "Descobri que o termo \"Franch Deck\" se refere ao baralho mais comum, o que a maioria de nós conhecemos. Curiosamente ele representa um calendário: são 52 cartas, que correspondem às 52 semanas do ano. Essas cartas são distribuídas por quatro naipes (suits): Copas(hearts ♥), Espadas(spades ♠), Paus(clubs ♣) e Ouros(diamonds ♦). Esses naipes representam as estações do ano e remontam à tradição camponesa da França onde Paus representa os camponeses, Copas o clero, Espadas os militares e Ouros simboliza a burguesia. As cores, vermelha e preta, representam o dia e a noite. Os valores numéricos das cartas, não têm um significado específico, mas possuem um peso hierárquico variando de 2 à 10 (rank) com um \"Ás\" que, segundos os especialistas, vale 1. Há também as letras J, Q, K, chamadas de cartas chamadas judiciais, que valem 11, 12 e 13, respectivamente e, são simbolizadas por um Valete, uma Dama e um Rei que representam uma espécie de tributo às figuras da alta monarquia.    \n",
    "\n",
    "Curioso nos depararmos com o fato de que a soma de todas as cartas judiciais do baralho resulta em 12 e a soma do valor numérico de cada carta dá 364, claramente uma referência aos meses e aos dias do ano (dias de um ano não bissexto).\n",
    "\n",
    "De fato, quase nada disso importa para o nosso exemplo, mas eu achei interessante todo esse significado.\n",
    "\n",
    "Enfim, o que queremos mesmo, então, é construir um Franch Deck de 52 cards, em um range de 2 à 10, distribuídas em 4 suits cada.\n",
    "\n",
    "A seguir, a solução do Ramalho:\n"
   ]
  },
  {
   "cell_type": "code",
   "execution_count": 6,
   "id": "04fb0df2",
   "metadata": {},
   "outputs": [],
   "source": [
    "from collections import namedtuple"
   ]
  },
  {
   "cell_type": "code",
   "execution_count": 7,
   "id": "5fa07e14",
   "metadata": {},
   "outputs": [],
   "source": [
    "Card = namedtuple(\"Card\", [\"rank\", \"suit\"])\n",
    "\n",
    "\n",
    "class FrenchDeck:\n",
    "    ranks = [str(n) for n in range(2, 11)] + list(\"JQKA\")\n",
    "    suits = \"spades diamonds clubs hearts\".split()\n",
    "\n",
    "    def __init__(self):\n",
    "        self._cards = [Card(rank, suit) for suit in self.suits \n",
    "                                        for rank in self.ranks]\n",
    "\n",
    "    def __len__(self):\n",
    "        return len(self._cards)\n",
    "\n",
    "    def __getitem__(self, position):\n",
    "        return self._cards[position]"
   ]
  },
  {
   "cell_type": "markdown",
   "id": "d9dbabb6",
   "metadata": {},
   "source": [
    "## Entendendo a classe `Card`"
   ]
  },
  {
   "cell_type": "markdown",
   "id": "70af8f96",
   "metadata": {},
   "source": [
    "Segundo Ramalho, a primeria coisa que precisamos notar é o uso de `namedtuple`, um método da biblioteca padrão `collections`, usado para criar a classe `Card`. Namedtuple constrói uma tupla nomeada. Isto é, uma tupla em que podemos acessar seus elemetos por nome com a **notação de ponto**, a mesma sintaxe que usamos para acessarmos os membros de uma classe. Isso ocorre porque podemos dizer que uma nemedtuple é uma classe que se comporta como uma tupla e sua sintaxe é a seguinte: `namedtuple(typename, field_names, *, rename=False, defaults=None, module=None)`, onde:\n",
    "\n",
    "- `typename` é o tipo que será retornado. A namedtuple retorna uma subclasse semelhante a uma tupla.\n",
    "- `field_names` é uma sequência de strings como `['x', 'y']` que também pode ser uma única string separada por caracteres de espaço ou vírgulas, por exemplo `'x y z'`, `'x', 'y', 'z'`. Cada uma das substrings representará um `field_name` de `tipename`.\n",
    "- `rename` se verdadeiro, nomes de campos inválidos serão substituidos automaticamente por nomes posicionais. Por exemplo `['abc', 'def', 'ghi', 'abc']` é convertido para `['abc', '_1', 'ghi', '_3']`, eliminando a palavra-chave `def` e o nome de campo duplicado `abc`.\n",
    "- `defaults` pode ser `None` ou um iterável de valor padrão. Como em Python os valores padrão devem vir depois de todos os parâmetros não-padrão, devem estar mais à direita. Para por exemplo, se os nomes dos campos forem `['x', 'y', 'z']` e os padrões são (1, 2), então `x` será um argumento obrigatório, `y` será padrão para 1, e `z` será padrão para 2. \n",
    "- `module` se definido, o atributo `__module__` da tupla nomeada é definido para esse valor.\n",
    "\n",
    "De maneira geral, usamos a tupla nomeada com seus dois primeiros argumentos como no exemplo a seguir tirado da [documetação](https://docs.python.org/3/library/collections.html#collections.namedtuple):"
   ]
  },
  {
   "cell_type": "code",
   "execution_count": 8,
   "id": "dfcaae70",
   "metadata": {},
   "outputs": [],
   "source": [
    "Point = namedtuple('Point', ['x', 'y'])"
   ]
  },
  {
   "cell_type": "code",
   "execution_count": 9,
   "id": "7cc8b805",
   "metadata": {},
   "outputs": [],
   "source": [
    "p = Point(11, y=22) # você pode instanciar usando argumentos posicionais ou nomeados"
   ]
  },
  {
   "cell_type": "code",
   "execution_count": 10,
   "id": "43682386",
   "metadata": {},
   "outputs": [
    {
     "data": {
      "text/plain": [
       "33"
      ]
     },
     "execution_count": 10,
     "metadata": {},
     "output_type": "execute_result"
    }
   ],
   "source": [
    "p[0] + p[1] # são indexados como uma tupla comum"
   ]
  },
  {
   "cell_type": "code",
   "execution_count": 16,
   "id": "43cb61dc",
   "metadata": {},
   "outputs": [
    {
     "data": {
      "text/plain": [
       "(11, 22)"
      ]
     },
     "execution_count": 16,
     "metadata": {},
     "output_type": "execute_result"
    }
   ],
   "source": [
    "x, y = p # os elementos podem ser desempacotados como uma tupla comum\n",
    "x, y"
   ]
  },
  {
   "cell_type": "code",
   "execution_count": 15,
   "id": "ac1e992f",
   "metadata": {},
   "outputs": [
    {
     "data": {
      "text/plain": [
       "33"
      ]
     },
     "execution_count": 15,
     "metadata": {},
     "output_type": "execute_result"
    }
   ],
   "source": [
    "p.x + p.y # aqui, a grande diferença: os elementos podem ser pesquisado por seus nomes"
   ]
  },
  {
   "cell_type": "code",
   "execution_count": 21,
   "id": "cee77f4a",
   "metadata": {},
   "outputs": [
    {
     "ename": "AttributeError",
     "evalue": "can't set attribute",
     "output_type": "error",
     "traceback": [
      "\u001b[0;31m---------------------------------------------------------------------------\u001b[0m",
      "\u001b[0;31mAttributeError\u001b[0m                            Traceback (most recent call last)",
      "Cell \u001b[0;32mIn[21], line 1\u001b[0m\n\u001b[0;32m----> 1\u001b[0m \u001b[43mp\u001b[49m\u001b[38;5;241;43m.\u001b[39;49m\u001b[43mx\u001b[49m \u001b[38;5;241m=\u001b[39m \u001b[38;5;241m20\u001b[39m \u001b[38;5;66;03m# Uma vez instanciado, os atributos são imutáveis como numa tupla\u001b[39;00m\n",
      "\u001b[0;31mAttributeError\u001b[0m: can't set attribute"
     ]
    }
   ],
   "source": [
    "p.x = 20 # Uma vez instanciado, os atributos são imutáveis como numa tupla"
   ]
  },
  {
   "cell_type": "code",
   "execution_count": 13,
   "id": "1dfd940b",
   "metadata": {},
   "outputs": [
    {
     "name": "stdout",
     "output_type": "stream",
     "text": [
      "<class '__main__.Point'>\n"
     ]
    }
   ],
   "source": [
    "type_p = p\n",
    "print(type(type_p)) # o retorno é uma classe"
   ]
  },
  {
   "cell_type": "markdown",
   "id": "bbbbba6f",
   "metadata": {},
   "source": [
    "Voltando ao nosso baralho, com uma melhor visão da `nametuple`, podemos dar um rank e uma suit à uma carta:"
   ]
  },
  {
   "cell_type": "code",
   "execution_count": 17,
   "id": "a9a8455f",
   "metadata": {},
   "outputs": [
    {
     "data": {
      "text/plain": [
       "Card(rank='7', suit='diamonds')"
      ]
     },
     "execution_count": 17,
     "metadata": {},
     "output_type": "execute_result"
    }
   ],
   "source": [
    "beer_card = Card(\"7\", \"diamonds\")\n",
    "beer_card"
   ]
  },
  {
   "cell_type": "markdown",
   "id": "c989c4e1",
   "metadata": {},
   "source": [
    "## Entendendo a classe `FrenchDeck`"
   ]
  },
  {
   "cell_type": "markdown",
   "id": "ff1d5c79",
   "metadata": {},
   "source": [
    "O ponto central do código, entretanto, é a classe `FrenchDeck`. Apesar de ser uma classe enxuta, muita coisa acontece nela. \n",
    "\n",
    "Primeiro nós temos a soma de duas listas que formam nosso `rank`. A primeira, que estabelece um intervalo numerico (`range`) de 2 à 11 -- que, na prática, resulta em um intervalo de 2 à 10, pois $range = n -1$ -- cujo os numerais são convertido para string. A segunda lista representa as quatro letras das cartas judiciais do baralho. \n",
    "\n",
    "Depois temos o `split` de uma string onde cada substring é a representação de uma `suit` do baralho. A função split retorna uma lista contendo cada substring separada.  \n",
    "\n",
    "A classe `FrenchDeck` é, então, inicializda (`__init__` que será estudado em um outro momento) com uma lista de cartas (`_cards`). Em outras palavras, para cada `rank` e `suit`, de 2 à 10, passamos seus valores como argumentos para nossa classe `Card`, o que resulta em 52 `_cards`.\n",
    "\n",
    "A partir daqui, entramos no grande objetivo do tópico do capítulo: A implementação dos métodos especiais `__len__` e `__getitem__`. \n",
    "\n",
    "Quando implementamos o método `__len__`, permitimos que `FrenchDeck` responda a função `len()` como qulquer outra coleção do Python:"
   ]
  },
  {
   "cell_type": "code",
   "execution_count": 18,
   "id": "7f5fca72",
   "metadata": {},
   "outputs": [],
   "source": [
    "deck = FrenchDeck()"
   ]
  },
  {
   "cell_type": "code",
   "execution_count": 19,
   "id": "9923c962",
   "metadata": {},
   "outputs": [
    {
     "data": {
      "text/plain": [
       "52"
      ]
     },
     "execution_count": 19,
     "metadata": {},
     "output_type": "execute_result"
    }
   ],
   "source": [
    "len(deck)"
   ]
  },
  {
   "cell_type": "markdown",
   "id": "0e36c38d",
   "metadata": {},
   "source": [
    "Também implementamos `__getitem__`, dando a `FrenchDeck` o poder de se comportar como uma coleção nativa do Python. Isso significa que podemos recuperar elementos da coleção utilizando a **sintaxe de índice** ou se preferir, **notação de colchetes**. Por exemplo, podemos recuperar a primeria e a última carta da coleção:"
   ]
  },
  {
   "cell_type": "code",
   "execution_count": 22,
   "id": "03d686fb",
   "metadata": {},
   "outputs": [
    {
     "data": {
      "text/plain": [
       "Card(rank='2', suit='spades')"
      ]
     },
     "execution_count": 22,
     "metadata": {},
     "output_type": "execute_result"
    }
   ],
   "source": [
    "deck[0]"
   ]
  },
  {
   "cell_type": "code",
   "execution_count": 23,
   "id": "d53bda76",
   "metadata": {},
   "outputs": [
    {
     "data": {
      "text/plain": [
       "Card(rank='A', suit='hearts')"
      ]
     },
     "execution_count": 23,
     "metadata": {},
     "output_type": "execute_result"
    }
   ],
   "source": [
    "deck[-1]"
   ]
  },
  {
   "cell_type": "markdown",
   "id": "2e2e6294",
   "metadata": {},
   "source": [
    "Uma gama de possibilidades se abre para nós porque podemos passar a utilizar bibliotecas desenvolvidas para lidar com coleções do python como, por exemplo, o método `choice` da biblioteca `ramdom`, que nos permite \"puxar\" cartas aleatóreas do baralho:"
   ]
  },
  {
   "cell_type": "code",
   "execution_count": 24,
   "id": "84d3c2a1",
   "metadata": {},
   "outputs": [],
   "source": [
    "from random import choice"
   ]
  },
  {
   "cell_type": "code",
   "execution_count": 25,
   "id": "304163ff",
   "metadata": {},
   "outputs": [
    {
     "data": {
      "text/plain": [
       "Card(rank='3', suit='hearts')"
      ]
     },
     "execution_count": 25,
     "metadata": {},
     "output_type": "execute_result"
    }
   ],
   "source": [
    "choice(deck)"
   ]
  },
  {
   "cell_type": "code",
   "execution_count": 26,
   "id": "08f6c233",
   "metadata": {},
   "outputs": [
    {
     "data": {
      "text/plain": [
       "Card(rank='J', suit='hearts')"
      ]
     },
     "execution_count": 26,
     "metadata": {},
     "output_type": "execute_result"
    }
   ],
   "source": [
    "choice(deck)"
   ]
  },
  {
   "cell_type": "code",
   "execution_count": 27,
   "id": "db3cc47a",
   "metadata": {},
   "outputs": [
    {
     "data": {
      "text/plain": [
       "Card(rank='9', suit='clubs')"
      ]
     },
     "execution_count": 27,
     "metadata": {},
     "output_type": "execute_result"
    }
   ],
   "source": [
    "choice(deck)"
   ]
  },
  {
   "cell_type": "markdown",
   "id": "7894d345",
   "metadata": {},
   "source": [
    "Como `__getitem__` usa o operador `[]` de `self._cards`, o baralho também suporta a **sintaxe de fatiamento**:"
   ]
  },
  {
   "cell_type": "code",
   "execution_count": 28,
   "id": "be70c388",
   "metadata": {},
   "outputs": [
    {
     "data": {
      "text/plain": [
       "[Card(rank='2', suit='spades'),\n",
       " Card(rank='3', suit='spades'),\n",
       " Card(rank='4', suit='spades')]"
      ]
     },
     "execution_count": 28,
     "metadata": {},
     "output_type": "execute_result"
    }
   ],
   "source": [
    "deck[:3] # busca as primeiras 3 cartas do baralho"
   ]
  },
  {
   "cell_type": "code",
   "execution_count": 29,
   "id": "ab7042e7",
   "metadata": {},
   "outputs": [
    {
     "data": {
      "text/plain": [
       "[Card(rank='A', suit='spades'),\n",
       " Card(rank='A', suit='diamonds'),\n",
       " Card(rank='A', suit='clubs'),\n",
       " Card(rank='A', suit='hearts')]"
      ]
     },
     "execution_count": 29,
     "metadata": {},
     "output_type": "execute_result"
    }
   ],
   "source": [
    "deck[12::13] # busca apenas os ases, iniciando no índice 12 e pulando de 13 em 13"
   ]
  },
  {
   "cell_type": "markdown",
   "id": "e5631ace",
   "metadata": {},
   "source": [
    "Claramente, podemos deduzir que, como o baralho é um coleção, é possível iterar por seus elementos: "
   ]
  },
  {
   "cell_type": "code",
   "execution_count": 30,
   "id": "66831b38",
   "metadata": {},
   "outputs": [
    {
     "name": "stdout",
     "output_type": "stream",
     "text": [
      "Card(rank='2', suit='spades')\n",
      "Card(rank='3', suit='spades')\n",
      "Card(rank='4', suit='spades')\n",
      "Card(rank='5', suit='spades')\n",
      "Card(rank='6', suit='spades')\n",
      "Card(rank='7', suit='spades')\n",
      "Card(rank='8', suit='spades')\n",
      "Card(rank='9', suit='spades')\n",
      "Card(rank='10', suit='spades')\n",
      "Card(rank='J', suit='spades')\n",
      "Card(rank='Q', suit='spades')\n",
      "Card(rank='K', suit='spades')\n",
      "Card(rank='A', suit='spades')\n",
      "Card(rank='2', suit='diamonds')\n",
      "Card(rank='3', suit='diamonds')\n",
      "Card(rank='4', suit='diamonds')\n",
      "Card(rank='5', suit='diamonds')\n",
      "Card(rank='6', suit='diamonds')\n",
      "Card(rank='7', suit='diamonds')\n",
      "Card(rank='8', suit='diamonds')\n",
      "Card(rank='9', suit='diamonds')\n",
      "Card(rank='10', suit='diamonds')\n",
      "Card(rank='J', suit='diamonds')\n",
      "Card(rank='Q', suit='diamonds')\n",
      "Card(rank='K', suit='diamonds')\n",
      "Card(rank='A', suit='diamonds')\n",
      "Card(rank='2', suit='clubs')\n",
      "Card(rank='3', suit='clubs')\n",
      "Card(rank='4', suit='clubs')\n",
      "Card(rank='5', suit='clubs')\n",
      "Card(rank='6', suit='clubs')\n",
      "Card(rank='7', suit='clubs')\n",
      "Card(rank='8', suit='clubs')\n",
      "Card(rank='9', suit='clubs')\n",
      "Card(rank='10', suit='clubs')\n",
      "Card(rank='J', suit='clubs')\n",
      "Card(rank='Q', suit='clubs')\n",
      "Card(rank='K', suit='clubs')\n",
      "Card(rank='A', suit='clubs')\n",
      "Card(rank='2', suit='hearts')\n",
      "Card(rank='3', suit='hearts')\n",
      "Card(rank='4', suit='hearts')\n",
      "Card(rank='5', suit='hearts')\n",
      "Card(rank='6', suit='hearts')\n",
      "Card(rank='7', suit='hearts')\n",
      "Card(rank='8', suit='hearts')\n",
      "Card(rank='9', suit='hearts')\n",
      "Card(rank='10', suit='hearts')\n",
      "Card(rank='J', suit='hearts')\n",
      "Card(rank='Q', suit='hearts')\n",
      "Card(rank='K', suit='hearts')\n",
      "Card(rank='A', suit='hearts')\n"
     ]
    }
   ],
   "source": [
    "for card in deck:\n",
    "    print(card)"
   ]
  },
  {
   "cell_type": "markdown",
   "id": "8ffa3438",
   "metadata": {},
   "source": [
    "Por que não iterar de trás para frente?"
   ]
  },
  {
   "cell_type": "code",
   "execution_count": 31,
   "id": "f1bc3a5e",
   "metadata": {},
   "outputs": [
    {
     "name": "stdout",
     "output_type": "stream",
     "text": [
      "Card(rank='A', suit='hearts')\n",
      "Card(rank='K', suit='hearts')\n",
      "Card(rank='Q', suit='hearts')\n",
      "Card(rank='J', suit='hearts')\n",
      "Card(rank='10', suit='hearts')\n",
      "Card(rank='9', suit='hearts')\n",
      "Card(rank='8', suit='hearts')\n",
      "Card(rank='7', suit='hearts')\n",
      "Card(rank='6', suit='hearts')\n",
      "Card(rank='5', suit='hearts')\n",
      "Card(rank='4', suit='hearts')\n",
      "Card(rank='3', suit='hearts')\n",
      "Card(rank='2', suit='hearts')\n",
      "Card(rank='A', suit='clubs')\n",
      "Card(rank='K', suit='clubs')\n",
      "Card(rank='Q', suit='clubs')\n",
      "Card(rank='J', suit='clubs')\n",
      "Card(rank='10', suit='clubs')\n",
      "Card(rank='9', suit='clubs')\n",
      "Card(rank='8', suit='clubs')\n",
      "Card(rank='7', suit='clubs')\n",
      "Card(rank='6', suit='clubs')\n",
      "Card(rank='5', suit='clubs')\n",
      "Card(rank='4', suit='clubs')\n",
      "Card(rank='3', suit='clubs')\n",
      "Card(rank='2', suit='clubs')\n",
      "Card(rank='A', suit='diamonds')\n",
      "Card(rank='K', suit='diamonds')\n",
      "Card(rank='Q', suit='diamonds')\n",
      "Card(rank='J', suit='diamonds')\n",
      "Card(rank='10', suit='diamonds')\n",
      "Card(rank='9', suit='diamonds')\n",
      "Card(rank='8', suit='diamonds')\n",
      "Card(rank='7', suit='diamonds')\n",
      "Card(rank='6', suit='diamonds')\n",
      "Card(rank='5', suit='diamonds')\n",
      "Card(rank='4', suit='diamonds')\n",
      "Card(rank='3', suit='diamonds')\n",
      "Card(rank='2', suit='diamonds')\n",
      "Card(rank='A', suit='spades')\n",
      "Card(rank='K', suit='spades')\n",
      "Card(rank='Q', suit='spades')\n",
      "Card(rank='J', suit='spades')\n",
      "Card(rank='10', suit='spades')\n",
      "Card(rank='9', suit='spades')\n",
      "Card(rank='8', suit='spades')\n",
      "Card(rank='7', suit='spades')\n",
      "Card(rank='6', suit='spades')\n",
      "Card(rank='5', suit='spades')\n",
      "Card(rank='4', suit='spades')\n",
      "Card(rank='3', suit='spades')\n",
      "Card(rank='2', suit='spades')\n"
     ]
    }
   ],
   "source": [
    "for card in reversed(deck):\n",
    "    print(card)"
   ]
  },
  {
   "cell_type": "markdown",
   "id": "d7a0b9a2",
   "metadata": {},
   "source": [
    "Ramalho também demonstra que a iteração é implícita. Isto é \"se uma coleção não fornece um método `__contains__`, o operador `is` realiza uma busca sequencial:  "
   ]
  },
  {
   "cell_type": "code",
   "execution_count": 32,
   "id": "eb7f89e7",
   "metadata": {},
   "outputs": [
    {
     "data": {
      "text/plain": [
       "True"
      ]
     },
     "execution_count": 32,
     "metadata": {},
     "output_type": "execute_result"
    }
   ],
   "source": [
    "Card('Q', 'hearts') in deck"
   ]
  },
  {
   "cell_type": "code",
   "execution_count": 33,
   "id": "4fd5107d",
   "metadata": {},
   "outputs": [
    {
     "data": {
      "text/plain": [
       "False"
      ]
     },
     "execution_count": 33,
     "metadata": {},
     "output_type": "execute_result"
    }
   ],
   "source": [
    "Card('7', 'beasts') in deck"
   ]
  },
  {
   "cell_type": "markdown",
   "id": "54ff3a32",
   "metadata": {},
   "source": [
    "Por fim, podemos ordenar as cartas do baralho. Uma maneira de ordenar um baralho é por seu valor numérico (sendo os ases os mais altos) e depois pelo naipe na ordem espadas (o mais alto), copas, ouros e paus (o mais baixo). Para fazer isso, Ramalho desenvolve uma função que devolve 0 para o 2 de paus e 51 para o às de espadas:\n",
    "\n"
   ]
  },
  {
   "cell_type": "code",
   "execution_count": 34,
   "id": "eff4c5d2",
   "metadata": {},
   "outputs": [],
   "source": [
    "suit_vaules = dict(spades=3, hearts=2, diamonds=1, clubs=0)\n",
    "\n",
    "def spades_high(card):\n",
    "    rank_value = FrenchDeck.ranks.index(card.rank)\n",
    "    return rank_value * len(suit_vaules) + suit_vaules[card.suit]"
   ]
  },
  {
   "cell_type": "markdown",
   "id": "ea6ac4b3",
   "metadata": {},
   "source": [
    "Agora, podemos listar em ordem crescente:"
   ]
  },
  {
   "cell_type": "code",
   "execution_count": 35,
   "id": "2d9982d2",
   "metadata": {},
   "outputs": [
    {
     "name": "stdout",
     "output_type": "stream",
     "text": [
      "Card(rank='2', suit='clubs')\n",
      "Card(rank='2', suit='diamonds')\n",
      "Card(rank='2', suit='hearts')\n",
      "Card(rank='2', suit='spades')\n",
      "Card(rank='3', suit='clubs')\n",
      "Card(rank='3', suit='diamonds')\n",
      "Card(rank='3', suit='hearts')\n",
      "Card(rank='3', suit='spades')\n",
      "Card(rank='4', suit='clubs')\n",
      "Card(rank='4', suit='diamonds')\n",
      "Card(rank='4', suit='hearts')\n",
      "Card(rank='4', suit='spades')\n",
      "Card(rank='5', suit='clubs')\n",
      "Card(rank='5', suit='diamonds')\n",
      "Card(rank='5', suit='hearts')\n",
      "Card(rank='5', suit='spades')\n",
      "Card(rank='6', suit='clubs')\n",
      "Card(rank='6', suit='diamonds')\n",
      "Card(rank='6', suit='hearts')\n",
      "Card(rank='6', suit='spades')\n",
      "Card(rank='7', suit='clubs')\n",
      "Card(rank='7', suit='diamonds')\n",
      "Card(rank='7', suit='hearts')\n",
      "Card(rank='7', suit='spades')\n",
      "Card(rank='8', suit='clubs')\n",
      "Card(rank='8', suit='diamonds')\n",
      "Card(rank='8', suit='hearts')\n",
      "Card(rank='8', suit='spades')\n",
      "Card(rank='9', suit='clubs')\n",
      "Card(rank='9', suit='diamonds')\n",
      "Card(rank='9', suit='hearts')\n",
      "Card(rank='9', suit='spades')\n",
      "Card(rank='10', suit='clubs')\n",
      "Card(rank='10', suit='diamonds')\n",
      "Card(rank='10', suit='hearts')\n",
      "Card(rank='10', suit='spades')\n",
      "Card(rank='J', suit='clubs')\n",
      "Card(rank='J', suit='diamonds')\n",
      "Card(rank='J', suit='hearts')\n",
      "Card(rank='J', suit='spades')\n",
      "Card(rank='Q', suit='clubs')\n",
      "Card(rank='Q', suit='diamonds')\n",
      "Card(rank='Q', suit='hearts')\n",
      "Card(rank='Q', suit='spades')\n",
      "Card(rank='K', suit='clubs')\n",
      "Card(rank='K', suit='diamonds')\n",
      "Card(rank='K', suit='hearts')\n",
      "Card(rank='K', suit='spades')\n",
      "Card(rank='A', suit='clubs')\n",
      "Card(rank='A', suit='diamonds')\n",
      "Card(rank='A', suit='hearts')\n",
      "Card(rank='A', suit='spades')\n"
     ]
    }
   ],
   "source": [
    "for card in sorted(deck, key=spades_high):\n",
    "    print(card)"
   ]
  },
  {
   "cell_type": "markdown",
   "id": "afe490f0",
   "metadata": {},
   "source": [
    "## Resumo do conceito geral "
   ]
  },
  {
   "cell_type": "markdown",
   "id": "47b2ac79",
   "metadata": {},
   "source": [
    "O Modelo de Dados do Python é uma representação abstrata da própria linguagem. Ele fornece uma interface sofisticada para dar acesso aos seus próprios recursos fundamentais. Esse alto nível de abstração permite uma grande flexibilidade na forma como os objetos são construidos e manipulados e faz do Python uma linguagem extremamente idiomática e legível, além de ser o pilar da sua filosofia e sucesso como linguagem de programação. \n",
    "\n",
    "Conseguimos observar essas características através da implementação de uma classe simples que representa um baralho. Ramalho demonstra como a implementação dos métodos especiais `__getitem__` e `__len__` deram à classe `FrenchDeck` a possibilidade de se comportar como uma seqência padrão do Python fornecendo acesso aos recurso centrais para tanto (iteração e fatiamento por exemplo). Isso proporcionou, segundo o autor, ao menos duas grandes vantagens:\n",
    "\n",
    "1. Os usuários da classe `FrenchDeck` não precisam memorizar nomes arbitrários de métodos para operações comuns, como descobrir, por exemplo, o número de itens na coleção (em outras linguagens poderíamos ter um `.size()` ou um `.length()`?).\n",
    "\n",
    "2. É mais fácil aproveitar a rica biblioteca padrão do Python ao invés de reinventar a roda, como no caso do uso de `random.choice`, `sorted`, `reverse`, por exemplo.\n",
    "\n",
    "Nos próximos tópicos, 1.3 e 1.4, iremos nos aprofundar nos usos mais importantes dos métodos especiais e nos métodos epeciais mais usados."
   ]
  }
 ],
 "metadata": {
  "kernelspec": {
   "display_name": "Python 3 (ipykernel)",
   "language": "python",
   "name": "python3"
  },
  "language_info": {
   "codemirror_mode": {
    "name": "ipython",
    "version": 3
   },
   "file_extension": ".py",
   "mimetype": "text/x-python",
   "name": "python",
   "nbconvert_exporter": "python",
   "pygments_lexer": "ipython3",
   "version": "3.11.3"
  },
  "toc": {
   "base_numbering": 1,
   "nav_menu": {},
   "number_sections": true,
   "sideBar": true,
   "skip_h1_title": false,
   "title_cell": "Table of Contents",
   "title_sidebar": "Contents",
   "toc_cell": false,
   "toc_position": {},
   "toc_section_display": true,
   "toc_window_display": false
  }
 },
 "nbformat": 4,
 "nbformat_minor": 5
}
